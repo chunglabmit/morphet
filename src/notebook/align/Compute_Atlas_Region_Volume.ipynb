{
 "cells": [
  {
   "cell_type": "code",
   "execution_count": 6,
   "metadata": {},
   "outputs": [
    {
     "data": {
      "text/html": [
       "<div>\n",
       "<style scoped>\n",
       "    .dataframe tbody tr th:only-of-type {\n",
       "        vertical-align: middle;\n",
       "    }\n",
       "\n",
       "    .dataframe tbody tr th {\n",
       "        vertical-align: top;\n",
       "    }\n",
       "\n",
       "    .dataframe thead th {\n",
       "        text-align: right;\n",
       "    }\n",
       "</style>\n",
       "<table border=\"1\" class=\"dataframe\">\n",
       "  <thead>\n",
       "    <tr style=\"text-align: right;\">\n",
       "      <th></th>\n",
       "      <th>id</th>\n",
       "      <th>name</th>\n",
       "      <th>acronym</th>\n",
       "      <th>parent_structure_id</th>\n",
       "      <th>depth</th>\n",
       "    </tr>\n",
       "  </thead>\n",
       "  <tbody>\n",
       "    <tr>\n",
       "      <th>0</th>\n",
       "      <td>0</td>\n",
       "      <td>root</td>\n",
       "      <td>root</td>\n",
       "      <td>-1</td>\n",
       "      <td>0</td>\n",
       "    </tr>\n",
       "    <tr>\n",
       "      <th>1</th>\n",
       "      <td>1</td>\n",
       "      <td>Basic cell groups and regions</td>\n",
       "      <td>grey</td>\n",
       "      <td>0</td>\n",
       "      <td>1</td>\n",
       "    </tr>\n",
       "    <tr>\n",
       "      <th>2</th>\n",
       "      <td>2</td>\n",
       "      <td>Cerebrum</td>\n",
       "      <td>CH</td>\n",
       "      <td>1</td>\n",
       "      <td>2</td>\n",
       "    </tr>\n",
       "    <tr>\n",
       "      <th>3</th>\n",
       "      <td>3</td>\n",
       "      <td>Cerebral cortex</td>\n",
       "      <td>CTX</td>\n",
       "      <td>2</td>\n",
       "      <td>3</td>\n",
       "    </tr>\n",
       "    <tr>\n",
       "      <th>4</th>\n",
       "      <td>4</td>\n",
       "      <td>Cortical plate</td>\n",
       "      <td>CTXpl</td>\n",
       "      <td>3</td>\n",
       "      <td>4</td>\n",
       "    </tr>\n",
       "  </tbody>\n",
       "</table>\n",
       "</div>"
      ],
      "text/plain": [
       "   id                           name acronym  parent_structure_id  depth\n",
       "0   0                           root    root                   -1      0\n",
       "1   1  Basic cell groups and regions    grey                    0      1\n",
       "2   2                       Cerebrum      CH                    1      2\n",
       "3   3                Cerebral cortex     CTX                    2      3\n",
       "4   4                 Cortical plate   CTXpl                    3      4"
      ]
     },
     "execution_count": 6,
     "metadata": {},
     "output_type": "execute_result"
    }
   ],
   "source": [
    "%matplotlib inline\n",
    "%reload_ext autoreload\n",
    "%autoreload 2\n",
    "\n",
    "import os\n",
    "import pandas as pd\n",
    "from tqdm import tqdm\n",
    "import tifffile\n",
    "\n",
    "ATLAS_DIR = \"/media/share5/MYK/ATLAS/mouse\"\n",
    "is_dev = False\n",
    "\n",
    "if is_dev:\n",
    "    rl_file = \"AllBrainRegions_Dev.csv\"\n",
    "    ann_tif = {\n",
    "        \"E11.5\": \"annotation_E11pt5_sagittal.tif\",\n",
    "        \"E13.5_head\": \"annotation_E13pt5_head_400x240.tif\",\n",
    "        \"E13.5_embryo\": \"annotation_E13pt5_whole.tif\",\n",
    "        \"E15.5_brain\": \"annotation_E15pt5_sagittal_brain.tif\",\n",
    "        \"E15.5_embryo\": \"annotation_E15pt5_sagittal_whole.tif\",\n",
    "        \"E16.5_brain\": \"annotation_E16pt5_sagittal_head.tif\",\n",
    "        \"E16.5_embryo\": \"annotation_E16pt5_sagittal_whole.tif\",\n",
    "        \"E18.5_whole\": \"annotation_E18pt5_sagittal_whole.tif\",\n",
    "        \"E18.5_rot_hemi\": \"annotation_E18pt5_sagittalRot_hemi.tif\",\n",
    "        \"E18.5_rot_whole\": \"annotation_E18pt5_sagittalRot_whole.tif\"\n",
    "    }\n",
    "else:\n",
    "    rl_file = \"AllBrainRegions.csv\"\n",
    "    ann_tif = {\n",
    "        \"Adult_hemi_sagittal_whole\": \"annotation_25_half_sagittal_whole.tif\"\n",
    "    }\n",
    "\n",
    "df = pd.read_csv(os.path.join(ATLAS_DIR, rl_file))\n",
    "df.head()"
   ]
  },
  {
   "cell_type": "markdown",
   "metadata": {},
   "source": [
    "### Count labels from Annotation Tif"
   ]
  },
  {
   "cell_type": "code",
   "execution_count": 7,
   "metadata": {},
   "outputs": [],
   "source": [
    "def get_label_counts(ann_tif):\n",
    "    ann_map = tifffile.imread(ann_tif)\n",
    "    dd, hh, ww = ann_map.shape\n",
    "    vol_map = {}\n",
    "    for zz in tqdm(range(dd)):\n",
    "        for yy in range(hh):\n",
    "            for xx in range(ww):\n",
    "                label = int(ann_map[zz][yy][xx])\n",
    "                if label:\n",
    "                    try:\n",
    "                        vol_map[label] += 1\n",
    "                    except KeyError:\n",
    "                        vol_map[label] = 1\n",
    "    return vol_map"
   ]
  },
  {
   "cell_type": "code",
   "execution_count": 8,
   "metadata": {},
   "outputs": [
    {
     "name": "stderr",
     "output_type": "stream",
     "text": [
      "100%|█████████████████████████████████████████| 228/228 [00:19<00:00, 11.80it/s]"
     ]
    },
    {
     "name": "stdout",
     "output_type": "stream",
     "text": [
      "age:  Adult_hemi_sagittal_whole len(lblc_maps.keys()):  670\n",
      "lblc_maps.keys():  dict_keys(['Adult_hemi_sagittal_whole'])\n"
     ]
    },
    {
     "name": "stderr",
     "output_type": "stream",
     "text": [
      "\n"
     ]
    }
   ],
   "source": [
    "lblc_maps = {}\n",
    "for key in ann_tif:\n",
    "    lblc_maps[key] = get_label_counts(os.path.join(ATLAS_DIR, ann_tif[key]))\n",
    "    print(\"age: \", key, \"len(lblc_maps.keys()): \", len(lblc_maps[key].keys()))\n",
    "print(\"lblc_maps.keys(): \", lblc_maps.keys())"
   ]
  },
  {
   "cell_type": "markdown",
   "metadata": {},
   "source": [
    "### ADD label counts to Dataframe (recursively for parent regions)"
   ]
  },
  {
   "cell_type": "code",
   "execution_count": 9,
   "metadata": {},
   "outputs": [],
   "source": [
    "def update_df(df, lblc_map, coln):\n",
    "    err_lbls = []\n",
    "    for lno in lblc_map.keys():\n",
    "        counts = lblc_map[lno]\n",
    "        try:\n",
    "            df.at[df[df['id'] == lno].index[0], coln] += counts\n",
    "        except:\n",
    "            err_lbls.append(lno)\n",
    "            continue\n",
    "        \n",
    "        # apply also to my parents\n",
    "        p_lbl = curr_lbl = lno\n",
    "        while True:\n",
    "            p_lbl = int(df[df['id'] == curr_lbl]['parent_structure_id'])\n",
    "            if p_lbl == -1:\n",
    "                break\n",
    "                \n",
    "            p_row = df[df['id'] == p_lbl]\n",
    "            df.at[p_row.index[0], coln] += counts\n",
    "            curr_lbl = p_lbl\n",
    "\n",
    "    return df, err_lbls"
   ]
  },
  {
   "cell_type": "code",
   "execution_count": 10,
   "metadata": {},
   "outputs": [
    {
     "name": "stderr",
     "output_type": "stream",
     "text": [
      "100%|█████████████████████████████████████████████| 1/1 [00:02<00:00,  2.82s/it]"
     ]
    },
    {
     "name": "stdout",
     "output_type": "stream",
     "text": [
      "# of error labels:  0\n"
     ]
    },
    {
     "name": "stderr",
     "output_type": "stream",
     "text": [
      "\n"
     ]
    },
    {
     "data": {
      "text/html": [
       "<div>\n",
       "<style scoped>\n",
       "    .dataframe tbody tr th:only-of-type {\n",
       "        vertical-align: middle;\n",
       "    }\n",
       "\n",
       "    .dataframe tbody tr th {\n",
       "        vertical-align: top;\n",
       "    }\n",
       "\n",
       "    .dataframe thead th {\n",
       "        text-align: right;\n",
       "    }\n",
       "</style>\n",
       "<table border=\"1\" class=\"dataframe\">\n",
       "  <thead>\n",
       "    <tr style=\"text-align: right;\">\n",
       "      <th></th>\n",
       "      <th>id</th>\n",
       "      <th>name</th>\n",
       "      <th>acronym</th>\n",
       "      <th>parent_structure_id</th>\n",
       "      <th>depth</th>\n",
       "      <th>volume_Adult_hemi_sagittal_whole</th>\n",
       "      <th>volume_Adult_hemi_sagittal_whole_norm</th>\n",
       "    </tr>\n",
       "  </thead>\n",
       "  <tbody>\n",
       "    <tr>\n",
       "      <th>0</th>\n",
       "      <td>0</td>\n",
       "      <td>root</td>\n",
       "      <td>root</td>\n",
       "      <td>-1</td>\n",
       "      <td>0</td>\n",
       "      <td>16097057</td>\n",
       "      <td>1.000000</td>\n",
       "    </tr>\n",
       "    <tr>\n",
       "      <th>1</th>\n",
       "      <td>1</td>\n",
       "      <td>Basic cell groups and regions</td>\n",
       "      <td>grey</td>\n",
       "      <td>0</td>\n",
       "      <td>1</td>\n",
       "      <td>14400507</td>\n",
       "      <td>0.894605</td>\n",
       "    </tr>\n",
       "    <tr>\n",
       "      <th>2</th>\n",
       "      <td>2</td>\n",
       "      <td>Cerebrum</td>\n",
       "      <td>CH</td>\n",
       "      <td>1</td>\n",
       "      <td>2</td>\n",
       "      <td>8830913</td>\n",
       "      <td>0.548604</td>\n",
       "    </tr>\n",
       "    <tr>\n",
       "      <th>3</th>\n",
       "      <td>3</td>\n",
       "      <td>Cerebral cortex</td>\n",
       "      <td>CTX</td>\n",
       "      <td>2</td>\n",
       "      <td>3</td>\n",
       "      <td>7090956</td>\n",
       "      <td>0.440513</td>\n",
       "    </tr>\n",
       "    <tr>\n",
       "      <th>4</th>\n",
       "      <td>4</td>\n",
       "      <td>Cortical plate</td>\n",
       "      <td>CTXpl</td>\n",
       "      <td>3</td>\n",
       "      <td>4</td>\n",
       "      <td>6805980</td>\n",
       "      <td>0.422809</td>\n",
       "    </tr>\n",
       "  </tbody>\n",
       "</table>\n",
       "</div>"
      ],
      "text/plain": [
       "   id                           name acronym  parent_structure_id  depth  \\\n",
       "0   0                           root    root                   -1      0   \n",
       "1   1  Basic cell groups and regions    grey                    0      1   \n",
       "2   2                       Cerebrum      CH                    1      2   \n",
       "3   3                Cerebral cortex     CTX                    2      3   \n",
       "4   4                 Cortical plate   CTXpl                    3      4   \n",
       "\n",
       "   volume_Adult_hemi_sagittal_whole  volume_Adult_hemi_sagittal_whole_norm  \n",
       "0                          16097057                               1.000000  \n",
       "1                          14400507                               0.894605  \n",
       "2                           8830913                               0.548604  \n",
       "3                           7090956                               0.440513  \n",
       "4                           6805980                               0.422809  "
      ]
     },
     "execution_count": 10,
     "metadata": {},
     "output_type": "execute_result"
    }
   ],
   "source": [
    "err_lbls_map = {}\n",
    "for k in tqdm(lblc_maps.keys()):\n",
    "    coln = \"volume_%s\"%k\n",
    "    df[coln] = 0\n",
    "    df_new, err_lbls = update_df(df, lblc_maps[k], coln)\n",
    "    print(\"# of error labels: \", len(err_lbls))\n",
    "    err_lbls_map[k] = err_lbls\n",
    "    \n",
    "    # add normlized column\n",
    "    ddf = df_new[coln]\n",
    "    mcol_norm =(ddf - ddf.min()) / (ddf.max() - ddf.min())\n",
    "    df_new['%s_norm'%coln] = mcol_norm\n",
    "df_new.head()"
   ]
  },
  {
   "cell_type": "code",
   "execution_count": 12,
   "metadata": {},
   "outputs": [
    {
     "data": {
      "text/html": [
       "<div>\n",
       "<style scoped>\n",
       "    .dataframe tbody tr th:only-of-type {\n",
       "        vertical-align: middle;\n",
       "    }\n",
       "\n",
       "    .dataframe tbody tr th {\n",
       "        vertical-align: top;\n",
       "    }\n",
       "\n",
       "    .dataframe thead th {\n",
       "        text-align: right;\n",
       "    }\n",
       "</style>\n",
       "<table border=\"1\" class=\"dataframe\">\n",
       "  <thead>\n",
       "    <tr style=\"text-align: right;\">\n",
       "      <th></th>\n",
       "      <th>id</th>\n",
       "      <th>name</th>\n",
       "      <th>acronym</th>\n",
       "      <th>parent_structure_id</th>\n",
       "      <th>depth</th>\n",
       "      <th>volume_Adult_hemi_sagittal_whole</th>\n",
       "      <th>volume_Adult_hemi_sagittal_whole_norm</th>\n",
       "    </tr>\n",
       "  </thead>\n",
       "  <tbody>\n",
       "    <tr>\n",
       "      <th>30</th>\n",
       "      <td>30</td>\n",
       "      <td>Somatosensory areas</td>\n",
       "      <td>SS</td>\n",
       "      <td>5</td>\n",
       "      <td>6</td>\n",
       "      <td>1066625</td>\n",
       "      <td>0.066262</td>\n",
       "    </tr>\n",
       "  </tbody>\n",
       "</table>\n",
       "</div>"
      ],
      "text/plain": [
       "    id                 name acronym  parent_structure_id  depth  \\\n",
       "30  30  Somatosensory areas      SS                    5      6   \n",
       "\n",
       "    volume_Adult_hemi_sagittal_whole  volume_Adult_hemi_sagittal_whole_norm  \n",
       "30                           1066625                               0.066262  "
      ]
     },
     "execution_count": 12,
     "metadata": {},
     "output_type": "execute_result"
    }
   ],
   "source": [
    "aaa = df_new[df_new['acronym']=='SS']\n",
    "aaa.head()"
   ]
  },
  {
   "cell_type": "code",
   "execution_count": null,
   "metadata": {},
   "outputs": [],
   "source": []
  },
  {
   "cell_type": "code",
   "execution_count": null,
   "metadata": {},
   "outputs": [],
   "source": []
  },
  {
   "cell_type": "code",
   "execution_count": 13,
   "metadata": {},
   "outputs": [],
   "source": [
    "# save\n",
    "rl_file_new = \"AllBrainRegions_New.csv\"\n",
    "df_new.to_csv(os.path.join(ATLAS_DIR, rl_file_new), sep=',', index=False)"
   ]
  },
  {
   "cell_type": "code",
   "execution_count": null,
   "metadata": {},
   "outputs": [],
   "source": []
  }
 ],
 "metadata": {
  "kernelspec": {
   "display_name": "Python 3 (ipykernel)",
   "language": "python",
   "name": "python3"
  },
  "language_info": {
   "codemirror_mode": {
    "name": "ipython",
    "version": 3
   },
   "file_extension": ".py",
   "mimetype": "text/x-python",
   "name": "python",
   "nbconvert_exporter": "python",
   "pygments_lexer": "ipython3",
   "version": "3.7.9"
  }
 },
 "nbformat": 4,
 "nbformat_minor": 4
}
